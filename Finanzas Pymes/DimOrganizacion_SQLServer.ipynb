{
 "cells": [
  {
   "cell_type": "markdown",
   "metadata": {},
   "source": [
    "### Analisis Exploratorio de AdventureWorks \n",
    "Comandos necesarios para probar la conexion al DWH de Adventure Works"
   ]
  },
  {
   "cell_type": "markdown",
   "metadata": {},
   "source": [
    "Conexion SQL Server a atraves de pyodbc"
   ]
  },
  {
   "cell_type": "code",
   "execution_count": 1,
   "metadata": {},
   "outputs": [],
   "source": [
    "# Importamos la libreria par SQL Server\n",
    "import pyodbc\n",
    "import pandas as pd"
   ]
  },
  {
   "cell_type": "code",
   "execution_count": 2,
   "metadata": {},
   "outputs": [],
   "source": [
    "#Paramentros de Conexion SQL SERVER con la base de datos: AdventureWorksDW2019\n",
    "conn_dhwSelect = pyodbc.connect('Driver={SQL Server};'\n",
    "                      'Server=ASUSRF\\SQLSERVER19;'\n",
    "                      'Database=AdventureWorksDW2019;'\n",
    "                      'Trusted_Connection=yes;')"
   ]
  },
  {
   "cell_type": "code",
   "execution_count": 3,
   "metadata": {},
   "outputs": [
    {
     "name": "stdout",
     "output_type": "stream",
     "text": [
      "(1, None, '1', 'AdventureWorks Cycle', 100)\n",
      "(2, 1, '1', 'North America Operations', 100)\n",
      "(3, 14, '1', 'Northeast Division', 100)\n",
      "(4, 14, '1', 'Northwest Division', 100)\n",
      "(5, 14, '1', 'Central Division', 100)\n",
      "(6, 14, '1', 'Southeast Division', 100)\n",
      "(7, 14, '1', 'Southwest Division', 100)\n",
      "(8, 2, '.75', 'Canadian Division', 19)\n",
      "(9, 1, '1', 'European Operations', 36)\n",
      "(10, 1, '.75', 'Pacific Operations', 6)\n",
      "(11, 9, '.50', 'France', 36)\n",
      "(12, 9, '.25', 'Germany', 36)\n",
      "(13, 10, '.50', 'Australia', 6)\n",
      "(14, 2, '1', 'USA Operations', 100)\n"
     ]
    }
   ],
   "source": [
    "#Lectura de datos con Cursor\n",
    "cursor = conn_dhwSelect.cursor()\n",
    "cursor.execute('SELECT * FROM DimOrganization')\n",
    "\n",
    "for i in cursor:\n",
    "    print(i)"
   ]
  },
  {
   "cell_type": "code",
   "execution_count": 4,
   "metadata": {},
   "outputs": [
    {
     "name": "stderr",
     "output_type": "stream",
     "text": [
      "C:\\Users\\rfigu\\AppData\\Local\\Temp\\ipykernel_32744\\3802872464.py:5: UserWarning: pandas only supports SQLAlchemy connectable (engine/connection) or database string URI or sqlite3 DBAPI2 connection. Other DBAPI2 objects are not tested. Please consider using SQLAlchemy.\n",
      "  lista_df = pd.read_sql_query(sentencia_sql, conn_dhwSelect)\n"
     ]
    },
    {
     "data": {
      "text/html": [
       "<div>\n",
       "<style scoped>\n",
       "    .dataframe tbody tr th:only-of-type {\n",
       "        vertical-align: middle;\n",
       "    }\n",
       "\n",
       "    .dataframe tbody tr th {\n",
       "        vertical-align: top;\n",
       "    }\n",
       "\n",
       "    .dataframe thead th {\n",
       "        text-align: right;\n",
       "    }\n",
       "</style>\n",
       "<table border=\"1\" class=\"dataframe\">\n",
       "  <thead>\n",
       "    <tr style=\"text-align: right;\">\n",
       "      <th></th>\n",
       "      <th>OrganizationKey</th>\n",
       "      <th>ParentOrganizationKey</th>\n",
       "      <th>PercentageOfOwnership</th>\n",
       "      <th>OrganizationName</th>\n",
       "      <th>CurrencyKey</th>\n",
       "    </tr>\n",
       "  </thead>\n",
       "  <tbody>\n",
       "    <tr>\n",
       "      <th>0</th>\n",
       "      <td>1</td>\n",
       "      <td>NaN</td>\n",
       "      <td>1</td>\n",
       "      <td>AdventureWorks Cycle</td>\n",
       "      <td>100</td>\n",
       "    </tr>\n",
       "    <tr>\n",
       "      <th>1</th>\n",
       "      <td>2</td>\n",
       "      <td>1.0</td>\n",
       "      <td>1</td>\n",
       "      <td>North America Operations</td>\n",
       "      <td>100</td>\n",
       "    </tr>\n",
       "    <tr>\n",
       "      <th>2</th>\n",
       "      <td>3</td>\n",
       "      <td>14.0</td>\n",
       "      <td>1</td>\n",
       "      <td>Northeast Division</td>\n",
       "      <td>100</td>\n",
       "    </tr>\n",
       "    <tr>\n",
       "      <th>3</th>\n",
       "      <td>4</td>\n",
       "      <td>14.0</td>\n",
       "      <td>1</td>\n",
       "      <td>Northwest Division</td>\n",
       "      <td>100</td>\n",
       "    </tr>\n",
       "    <tr>\n",
       "      <th>4</th>\n",
       "      <td>5</td>\n",
       "      <td>14.0</td>\n",
       "      <td>1</td>\n",
       "      <td>Central Division</td>\n",
       "      <td>100</td>\n",
       "    </tr>\n",
       "    <tr>\n",
       "      <th>5</th>\n",
       "      <td>6</td>\n",
       "      <td>14.0</td>\n",
       "      <td>1</td>\n",
       "      <td>Southeast Division</td>\n",
       "      <td>100</td>\n",
       "    </tr>\n",
       "    <tr>\n",
       "      <th>6</th>\n",
       "      <td>7</td>\n",
       "      <td>14.0</td>\n",
       "      <td>1</td>\n",
       "      <td>Southwest Division</td>\n",
       "      <td>100</td>\n",
       "    </tr>\n",
       "    <tr>\n",
       "      <th>7</th>\n",
       "      <td>8</td>\n",
       "      <td>2.0</td>\n",
       "      <td>.75</td>\n",
       "      <td>Canadian Division</td>\n",
       "      <td>19</td>\n",
       "    </tr>\n",
       "    <tr>\n",
       "      <th>8</th>\n",
       "      <td>9</td>\n",
       "      <td>1.0</td>\n",
       "      <td>1</td>\n",
       "      <td>European Operations</td>\n",
       "      <td>36</td>\n",
       "    </tr>\n",
       "    <tr>\n",
       "      <th>9</th>\n",
       "      <td>10</td>\n",
       "      <td>1.0</td>\n",
       "      <td>.75</td>\n",
       "      <td>Pacific Operations</td>\n",
       "      <td>6</td>\n",
       "    </tr>\n",
       "    <tr>\n",
       "      <th>10</th>\n",
       "      <td>11</td>\n",
       "      <td>9.0</td>\n",
       "      <td>.50</td>\n",
       "      <td>France</td>\n",
       "      <td>36</td>\n",
       "    </tr>\n",
       "    <tr>\n",
       "      <th>11</th>\n",
       "      <td>12</td>\n",
       "      <td>9.0</td>\n",
       "      <td>.25</td>\n",
       "      <td>Germany</td>\n",
       "      <td>36</td>\n",
       "    </tr>\n",
       "    <tr>\n",
       "      <th>12</th>\n",
       "      <td>13</td>\n",
       "      <td>10.0</td>\n",
       "      <td>.50</td>\n",
       "      <td>Australia</td>\n",
       "      <td>6</td>\n",
       "    </tr>\n",
       "    <tr>\n",
       "      <th>13</th>\n",
       "      <td>14</td>\n",
       "      <td>2.0</td>\n",
       "      <td>1</td>\n",
       "      <td>USA Operations</td>\n",
       "      <td>100</td>\n",
       "    </tr>\n",
       "  </tbody>\n",
       "</table>\n",
       "</div>"
      ],
      "text/plain": [
       "    OrganizationKey  ParentOrganizationKey PercentageOfOwnership  \\\n",
       "0                 1                    NaN                     1   \n",
       "1                 2                    1.0                     1   \n",
       "2                 3                   14.0                     1   \n",
       "3                 4                   14.0                     1   \n",
       "4                 5                   14.0                     1   \n",
       "5                 6                   14.0                     1   \n",
       "6                 7                   14.0                     1   \n",
       "7                 8                    2.0                   .75   \n",
       "8                 9                    1.0                     1   \n",
       "9                10                    1.0                   .75   \n",
       "10               11                    9.0                   .50   \n",
       "11               12                    9.0                   .25   \n",
       "12               13                   10.0                   .50   \n",
       "13               14                    2.0                     1   \n",
       "\n",
       "            OrganizationName  CurrencyKey  \n",
       "0       AdventureWorks Cycle          100  \n",
       "1   North America Operations          100  \n",
       "2         Northeast Division          100  \n",
       "3         Northwest Division          100  \n",
       "4           Central Division          100  \n",
       "5         Southeast Division          100  \n",
       "6         Southwest Division          100  \n",
       "7          Canadian Division           19  \n",
       "8        European Operations           36  \n",
       "9         Pacific Operations            6  \n",
       "10                    France           36  \n",
       "11                   Germany           36  \n",
       "12                 Australia            6  \n",
       "13            USA Operations          100  "
      ]
     },
     "execution_count": 4,
     "metadata": {},
     "output_type": "execute_result"
    }
   ],
   "source": [
    "# Consulta a traves de Dataframe Pandas\n",
    "\n",
    "sentencia_sql = \"SELECT * FROM DimOrganization\"\n",
    "\n",
    "lista_df = pd.read_sql_query(sentencia_sql, conn_dhwSelect)\n",
    "lista_df"
   ]
  },
  {
   "cell_type": "code",
   "execution_count": 5,
   "metadata": {},
   "outputs": [],
   "source": [
    "connAW2 = pyodbc.connect('Driver={SQL Server};'\n",
    "                      'Server=ASUSRF\\SQLSERVER19;'\n",
    "                      'Database=AwfactTempo;'\n",
    "                      'Trusted_Connection=yes;')"
   ]
  },
  {
   "cell_type": "code",
   "execution_count": null,
   "metadata": {},
   "outputs": [],
   "source": [
    "for index, row in lista_df.iterrows():\n",
    "     cursor.execute(\"INSERT INTO AwfactTempo.DimOrganization (OrganizationKey,ParentOrganizationKey,PercentageOfOwnership,OrganizationName,CurrencyKey) values (?,?,?,?,?)\",\n",
    "      row.OrganizationKey,\n",
    "      row.ParentOrganizationKey,\n",
    "      row.PercentageOfOwnership,\n",
    "      row.OrganizationName,\n",
    "      row.CurrencyKey)\n",
    "connAW2.commit()\n",
    "cursor.close()"
   ]
  }
 ],
 "metadata": {
  "kernelspec": {
   "display_name": "Python 3.10.8 64-bit (microsoft store)",
   "language": "python",
   "name": "python3"
  },
  "language_info": {
   "codemirror_mode": {
    "name": "ipython",
    "version": 3
   },
   "file_extension": ".py",
   "mimetype": "text/x-python",
   "name": "python",
   "nbconvert_exporter": "python",
   "pygments_lexer": "ipython3",
   "version": "3.10.8"
  },
  "orig_nbformat": 4,
  "vscode": {
   "interpreter": {
    "hash": "b652e32c432ed5545f141cb780a5e94f3d33602200f84c18b384d39c5294c981"
   }
  }
 },
 "nbformat": 4,
 "nbformat_minor": 2
}
